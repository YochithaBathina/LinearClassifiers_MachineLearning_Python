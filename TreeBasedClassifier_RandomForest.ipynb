{
 "cells": [
  {
   "cell_type": "markdown",
   "metadata": {},
   "source": [
    "# Tree Based Classifiers"
   ]
  },
  {
   "cell_type": "code",
   "execution_count": 2,
   "metadata": {},
   "outputs": [],
   "source": [
    "#importing all libraries\n",
    "import numpy as ny\n",
    "import pandas as pa\n",
    "import sklearn.datasets\n",
    "import seaborn as sb\n",
    "%matplotlib inline\n",
    "import matplotlib.pyplot as pt\n",
    "from sklearn.datasets import load_iris\n",
    "from sklearn.metrics import accuracy_score\n",
    "from sklearn.model_selection import train_test_split\n",
    "from sklearn.model_selection import cross_val_score\n",
    "from sklearn import tree\n",
    "from sklearn.tree import DecisionTreeClassifier\n",
    "from sklearn.ensemble import RandomForestClassifier"
   ]
  },
  {
   "cell_type": "code",
   "execution_count": 3,
   "metadata": {},
   "outputs": [],
   "source": [
    "#loading of data\n",
    "func= load_iris()\n"
   ]
  },
  {
   "cell_type": "markdown",
   "metadata": {},
   "source": [
    "1. Train the model on 80% of data set\n",
    "2. split the entire data set in 20% test and 80% train sets"
   ]
  },
  {
   "cell_type": "code",
   "execution_count": 4,
   "metadata": {},
   "outputs": [],
   "source": [
    "#splitting of data(80% train and 20% test)\n",
    "x=func.data\n",
    "y=func.target\n",
    "A_train, A_test, B_train, B_test = train_test_split(x, y, random_state=42, test_size=0.2)"
   ]
  },
  {
   "cell_type": "markdown",
   "metadata": {},
   "source": [
    "# Decision Tree"
   ]
  },
  {
   "cell_type": "code",
   "execution_count": 5,
   "metadata": {},
   "outputs": [
    {
     "data": {
      "text/plain": [
       "DecisionTreeClassifier(ccp_alpha=0.0, class_weight=None, criterion='gini',\n",
       "                       max_depth=None, max_features=None, max_leaf_nodes=None,\n",
       "                       min_impurity_decrease=0.0, min_impurity_split=None,\n",
       "                       min_samples_leaf=1, min_samples_split=2,\n",
       "                       min_weight_fraction_leaf=0.0, presort='deprecated',\n",
       "                       random_state=42, splitter='best')"
      ]
     },
     "execution_count": 5,
     "metadata": {},
     "output_type": "execute_result"
    }
   ],
   "source": [
    "#Training the model\n",
    "Dtc= DecisionTreeClassifier(criterion='gini',splitter='best',min_samples_split=2,max_depth=None,max_features=None,max_leaf_nodes=None,random_state=42)\n",
    "Dtc.fit(A_train,B_train)"
   ]
  },
  {
   "cell_type": "markdown",
   "metadata": {},
   "source": [
    "1. Consider a value of max_depth from max_depth set\n",
    "2. Perform Cross Validation on the model for 80% of train data\n",
    "3. For each value of max_depth the model gives the  mean accuracy scores\n",
    "4. All the values of max_depth and  mean accuracies are stored in data frame and printed as below."
   ]
  },
  {
   "cell_type": "code",
   "execution_count": 6,
   "metadata": {},
   "outputs": [
    {
     "data": {
      "text/html": [
       "<div>\n",
       "<style scoped>\n",
       "    .dataframe tbody tr th:only-of-type {\n",
       "        vertical-align: middle;\n",
       "    }\n",
       "\n",
       "    .dataframe tbody tr th {\n",
       "        vertical-align: top;\n",
       "    }\n",
       "\n",
       "    .dataframe thead th {\n",
       "        text-align: right;\n",
       "    }\n",
       "</style>\n",
       "<table border=\"1\" class=\"dataframe\">\n",
       "  <thead>\n",
       "    <tr style=\"text-align: right;\">\n",
       "      <th></th>\n",
       "      <th>Accuracy scores</th>\n",
       "    </tr>\n",
       "    <tr>\n",
       "      <th>max_depth</th>\n",
       "      <th></th>\n",
       "    </tr>\n",
       "  </thead>\n",
       "  <tbody>\n",
       "    <tr>\n",
       "      <th>3</th>\n",
       "      <td>0.933333</td>\n",
       "    </tr>\n",
       "    <tr>\n",
       "      <th>5</th>\n",
       "      <td>0.916667</td>\n",
       "    </tr>\n",
       "    <tr>\n",
       "      <th>10</th>\n",
       "      <td>0.925000</td>\n",
       "    </tr>\n",
       "    <tr>\n",
       "      <th>None</th>\n",
       "      <td>0.925000</td>\n",
       "    </tr>\n",
       "  </tbody>\n",
       "</table>\n",
       "</div>"
      ],
      "text/plain": [
       "           Accuracy scores\n",
       "max_depth                 \n",
       "3                 0.933333\n",
       "5                 0.916667\n",
       "10                0.925000\n",
       "None              0.925000"
      ]
     },
     "execution_count": 6,
     "metadata": {},
     "output_type": "execute_result"
    }
   ],
   "source": [
    "result_list=[]\n",
    "#for None value\n",
    "Dtc= DecisionTreeClassifier(criterion='gini',splitter='best',min_samples_split=2,max_depth=None,max_features=None,max_leaf_nodes=None,random_state=42)\n",
    "Dtc.fit(A_train,B_train)\n",
    "value_None=cross_val_score(Dtc,A_train,B_train,cv=10)\n",
    "#for integer values\n",
    "max_depth=[3,5,10]\n",
    "for i in max_depth:\n",
    "        Dtc= DecisionTreeClassifier(criterion='gini',splitter='best',min_samples_split=2,max_depth=i,max_features=None,max_leaf_nodes=None,random_state=42)\n",
    "        Dtc.fit(A_train,B_train)\n",
    "        val=cross_val_score(Dtc,A_train,B_train,cv=10)\n",
    "        result_list.append(val.mean())\n",
    "\n",
    "max_depth.append('None')  \n",
    "result_list.append(value_None.mean())\n",
    "df= pa.DataFrame(result_list,max_depth,columns = ['Accuracy scores'])\n",
    "df = df.rename_axis('max_depth')\n",
    "df"
   ]
  },
  {
   "cell_type": "code",
   "execution_count": 7,
   "metadata": {},
   "outputs": [
    {
     "data": {
      "text/plain": [
       "Text(0, 0.5, 'Accuracy')"
      ]
     },
     "execution_count": 7,
     "metadata": {},
     "output_type": "execute_result"
    },
    {
     "data": {
      "image/png": "[encoded data removed]",
      "text/plain": [
       "<Figure size 432x288 with 1 Axes>"
      ]
     },
     "metadata": {
      "needs_background": "light"
     },
     "output_type": "display_data"
    }
   ],
   "source": [
    "#Plotting graph for above tabular data\n",
    "df.plot(color='red')\n",
    "pt.grid()\n",
    "pt.title('Accuracy vs max depth')\n",
    "pt.xlabel('Max depths')\n",
    "pt.ylabel('Accuracy')\n"
   ]
  },
  {
   "cell_type": "markdown",
   "metadata": {},
   "source": [
    "1. The maximum accuracy(0.933333) is obtained when maximum depth is 3.\n",
    "2. By having a low values of max depth which controls complexity and overfitting of decision tree"
   ]
  },
  {
   "cell_type": "markdown",
   "metadata": {},
   "source": [
    "# Random Forest"
   ]
  },
  {
   "cell_type": "code",
   "execution_count": 8,
   "metadata": {},
   "outputs": [
    {
     "data": {
      "text/plain": [
       "RandomForestClassifier(bootstrap=True, ccp_alpha=0.0, class_weight=None,\n",
       "                       criterion='gini', max_depth=None, max_features='auto',\n",
       "                       max_leaf_nodes=None, max_samples=None,\n",
       "                       min_impurity_decrease=0.0, min_impurity_split=None,\n",
       "                       min_samples_leaf=1, min_samples_split=2,\n",
       "                       min_weight_fraction_leaf=0.0, n_estimators=100,\n",
       "                       n_jobs=None, oob_score=False, random_state=42, verbose=0,\n",
       "                       warm_start=False)"
      ]
     },
     "execution_count": 8,
     "metadata": {},
     "output_type": "execute_result"
    }
   ],
   "source": [
    "#Training the model\n",
    "Rfc=RandomForestClassifier(n_estimators=100,max_depth=None,random_state=42)\n",
    "Rfc.fit(A_train,B_train)"
   ]
  },
  {
   "cell_type": "markdown",
   "metadata": {},
   "source": [
    "1. Consider a value of max_depth from max_depth set\n",
    "2. Consider a value of number_tree from number_tree set\n",
    "3. Perform Cross Validation on the model for 80% of train data\n",
    "4. For each value of max_depth and n_estimators the model gives the  mean accuracy scores\n",
    "5. All the values of max_depth, n_estimators and  mean accuracies are stored in data frame and printed as below."
   ]
  },
  {
   "cell_type": "code",
   "execution_count": 9,
   "metadata": {},
   "outputs": [
    {
     "data": {
      "text/html": [
       "<div>\n",
       "<style scoped>\n",
       "    .dataframe tbody tr th:only-of-type {\n",
       "        vertical-align: middle;\n",
       "    }\n",
       "\n",
       "    .dataframe tbody tr th {\n",
       "        vertical-align: top;\n",
       "    }\n",
       "\n",
       "    .dataframe thead th {\n",
       "        text-align: right;\n",
       "    }\n",
       "</style>\n",
       "<table border=\"1\" class=\"dataframe\">\n",
       "  <thead>\n",
       "    <tr style=\"text-align: right;\">\n",
       "      <th></th>\n",
       "      <th>Mean Accuracy scores</th>\n",
       "    </tr>\n",
       "    <tr>\n",
       "      <th>{depth,tree}</th>\n",
       "      <th></th>\n",
       "    </tr>\n",
       "  </thead>\n",
       "  <tbody>\n",
       "    <tr>\n",
       "      <th>{3, 5}</th>\n",
       "      <td>0.941667</td>\n",
       "    </tr>\n",
       "    <tr>\n",
       "      <th>{5}</th>\n",
       "      <td>0.941667</td>\n",
       "    </tr>\n",
       "    <tr>\n",
       "      <th>{10, 5}</th>\n",
       "      <td>0.941667</td>\n",
       "    </tr>\n",
       "    <tr>\n",
       "      <th>{None, 5}</th>\n",
       "      <td>0.941667</td>\n",
       "    </tr>\n",
       "    <tr>\n",
       "      <th>{10, 3}</th>\n",
       "      <td>0.941667</td>\n",
       "    </tr>\n",
       "    <tr>\n",
       "      <th>{10, 5}</th>\n",
       "      <td>0.925000</td>\n",
       "    </tr>\n",
       "    <tr>\n",
       "      <th>{10}</th>\n",
       "      <td>0.916667</td>\n",
       "    </tr>\n",
       "    <tr>\n",
       "      <th>{None, 10}</th>\n",
       "      <td>0.916667</td>\n",
       "    </tr>\n",
       "    <tr>\n",
       "      <th>{50, 3}</th>\n",
       "      <td>0.950000</td>\n",
       "    </tr>\n",
       "    <tr>\n",
       "      <th>{50, 5}</th>\n",
       "      <td>0.933333</td>\n",
       "    </tr>\n",
       "    <tr>\n",
       "      <th>{50, 10}</th>\n",
       "      <td>0.933333</td>\n",
       "    </tr>\n",
       "    <tr>\n",
       "      <th>{None, 50}</th>\n",
       "      <td>0.933333</td>\n",
       "    </tr>\n",
       "    <tr>\n",
       "      <th>{3, 150}</th>\n",
       "      <td>0.941667</td>\n",
       "    </tr>\n",
       "    <tr>\n",
       "      <th>{5, 150}</th>\n",
       "      <td>0.925000</td>\n",
       "    </tr>\n",
       "    <tr>\n",
       "      <th>{10, 150}</th>\n",
       "      <td>0.925000</td>\n",
       "    </tr>\n",
       "    <tr>\n",
       "      <th>{None, 150}</th>\n",
       "      <td>0.925000</td>\n",
       "    </tr>\n",
       "    <tr>\n",
       "      <th>{200, 3}</th>\n",
       "      <td>0.941667</td>\n",
       "    </tr>\n",
       "    <tr>\n",
       "      <th>{200, 5}</th>\n",
       "      <td>0.933333</td>\n",
       "    </tr>\n",
       "    <tr>\n",
       "      <th>{200, 10}</th>\n",
       "      <td>0.933333</td>\n",
       "    </tr>\n",
       "    <tr>\n",
       "      <th>{200, None}</th>\n",
       "      <td>0.933333</td>\n",
       "    </tr>\n",
       "  </tbody>\n",
       "</table>\n",
       "</div>"
      ],
      "text/plain": [
       "              Mean Accuracy scores\n",
       "{depth,tree}                      \n",
       "{3, 5}                    0.941667\n",
       "{5}                       0.941667\n",
       "{10, 5}                   0.941667\n",
       "{None, 5}                 0.941667\n",
       "{10, 3}                   0.941667\n",
       "{10, 5}                   0.925000\n",
       "{10}                      0.916667\n",
       "{None, 10}                0.916667\n",
       "{50, 3}                   0.950000\n",
       "{50, 5}                   0.933333\n",
       "{50, 10}                  0.933333\n",
       "{None, 50}                0.933333\n",
       "{3, 150}                  0.941667\n",
       "{5, 150}                  0.925000\n",
       "{10, 150}                 0.925000\n",
       "{None, 150}               0.925000\n",
       "{200, 3}                  0.941667\n",
       "{200, 5}                  0.933333\n",
       "{200, 10}                 0.933333\n",
       "{200, None}               0.933333"
      ]
     },
     "execution_count": 9,
     "metadata": {},
     "output_type": "execute_result"
    }
   ],
   "source": [
    "#For different values of n estimator and maximum depths\n",
    "result_list = []\n",
    "result={}\n",
    "input_val=[]\n",
    "w=5\n",
    "h=5\n",
    "Matrix=[[0 for x in range(w)] for y in range(h)] \n",
    "number_tree=[5,10,50,150,200]\n",
    "max_depth=[3,5,10,None]\n",
    "for i in number_tree:\n",
    "    for j in max_depth:\n",
    "        Rfc=RandomForestClassifier(n_estimators=i,max_depth=j,random_state=42)\n",
    "        Rfc.fit(A_train,B_train)\n",
    "        val=cross_val_score(Rfc,A_train,B_train,cv=10)\n",
    "        val.mean()\n",
    "        result_list.append(val.mean())\n",
    "#print(result_list)\n",
    "for i in number_tree:\n",
    "    for j in max_depth:\n",
    "        result={i,j}\n",
    "        input_val.append(result)\n",
    "df= pa.DataFrame(result_list,input_val,columns = ['Mean Accuracy scores'])\n",
    "df = df.rename_axis('{depth,tree}')\n",
    "df"
   ]
  },
  {
   "cell_type": "code",
   "execution_count": 10,
   "metadata": {},
   "outputs": [
    {
     "name": "stdout",
     "output_type": "stream",
     "text": [
      "[[0.94166667 0.94166667 0.94166667 0.94166667]\n",
      " [0.94166667 0.925      0.91666667 0.91666667]\n",
      " [0.95       0.93333333 0.93333333 0.93333333]\n",
      " [0.94166667 0.925      0.925      0.925     ]\n",
      " [0.94166667 0.93333333 0.93333333 0.93333333]]\n"
     ]
    }
   ],
   "source": [
    "#storing accuracy values in matrix\n",
    "c=ny.array(result_list)\n",
    "s=(5,4)\n",
    "Matrix=c.reshape(s)\n",
    "print(Matrix)"
   ]
  },
  {
   "cell_type": "markdown",
   "metadata": {},
   "source": [
    "1. Heatmap is plot for the above defined matrix\n",
    "2. x axis defines Max_depths and y axis is number of trees"
   ]
  },
  {
   "cell_type": "code",
   "execution_count": 11,
   "metadata": {
    "scrolled": true
   },
   "outputs": [
    {
     "data": {
      "text/plain": [
       "Text(0.5, 1, 'Heatplot for mean accuracies')"
      ]
     },
     "execution_count": 11,
     "metadata": {},
     "output_type": "execute_result"
    },
    {
     "data": {
      "image/png": "[encoded data removed]",
      "text/plain": [
       "<Figure size 432x288 with 2 Axes>"
      ]
     },
     "metadata": {
      "needs_background": "light"
     },
     "output_type": "display_data"
    }
   ],
   "source": [
    "#Plotting Heatmap\n",
    "x_axis_labels=[3,5,10,'None']\n",
    "y_axis_labels=[5,10,50,150,200]\n",
    "a=sb.heatmap(Matrix,xticklabels=x_axis_labels, yticklabels=y_axis_labels,annot=True)\n",
    "pt.xlabel('Max depths')\n",
    "pt.ylabel('Number of trees')\n",
    "pt.title('Heatplot for mean accuracies')"
   ]
  },
  {
   "cell_type": "markdown",
   "metadata": {},
   "source": [
    "1. As the max depth value increases there is decrease in the accuracy of the train data\n",
    "2. But for increase in the number of trees there is a fluctucations in the mean accuracy \n",
    "3. Thus by selecting max_depth=3 and n_estimators= 50 maximum mean accuracy is obtained(95%)"
   ]
  },
  {
   "cell_type": "markdown",
   "metadata": {},
   "source": [
    "# Gradient Boosting Classifier"
   ]
  },
  {
   "cell_type": "code",
   "execution_count": 12,
   "metadata": {},
   "outputs": [
    {
     "data": {
      "text/plain": [
       "GradientBoostingClassifier(ccp_alpha=0.0, criterion='friedman_mse', init=None,\n",
       "                           learning_rate=0.1, loss='deviance', max_depth=3,\n",
       "                           max_features=None, max_leaf_nodes=None,\n",
       "                           min_impurity_decrease=0.0, min_impurity_split=None,\n",
       "                           min_samples_leaf=1, min_samples_split=2,\n",
       "                           min_weight_fraction_leaf=0.0, n_estimators=5,\n",
       "                           n_iter_no_change=None, presort='deprecated',\n",
       "                           random_state=42, subsample=1.0, tol=0.0001,\n",
       "                           validation_fraction=0.1, verbose=0,\n",
       "                           warm_start=False)"
      ]
     },
     "execution_count": 12,
     "metadata": {},
     "output_type": "execute_result"
    }
   ],
   "source": [
    "from sklearn.ensemble import GradientBoostingClassifier\n",
    "Gbc= GradientBoostingClassifier(n_estimators=5,random_state=42,loss='deviance')\n",
    "Gbc.fit(A_train,B_train)"
   ]
  },
  {
   "cell_type": "markdown",
   "metadata": {},
   "source": [
    "1. Consider a value of n_estimators from n_val set\n",
    "2. Perform Cross Validation on the model for 80% of train data\n",
    "3. For each value of n_estimators the model gives the  mean accuracy scores\n",
    "4. All the values of n_estimators and  mean accuracies are stored in data frame and printed as below."
   ]
  },
  {
   "cell_type": "code",
   "execution_count": 13,
   "metadata": {},
   "outputs": [
    {
     "data": {
      "text/html": [
       "<div>\n",
       "<style scoped>\n",
       "    .dataframe tbody tr th:only-of-type {\n",
       "        vertical-align: middle;\n",
       "    }\n",
       "\n",
       "    .dataframe tbody tr th {\n",
       "        vertical-align: top;\n",
       "    }\n",
       "\n",
       "    .dataframe thead th {\n",
       "        text-align: right;\n",
       "    }\n",
       "</style>\n",
       "<table border=\"1\" class=\"dataframe\">\n",
       "  <thead>\n",
       "    <tr style=\"text-align: right;\">\n",
       "      <th></th>\n",
       "      <th>Mean Accuracy scores</th>\n",
       "    </tr>\n",
       "    <tr>\n",
       "      <th>no. estimators</th>\n",
       "      <th></th>\n",
       "    </tr>\n",
       "  </thead>\n",
       "  <tbody>\n",
       "    <tr>\n",
       "      <th>5</th>\n",
       "      <td>0.933333</td>\n",
       "    </tr>\n",
       "    <tr>\n",
       "      <th>10</th>\n",
       "      <td>0.933333</td>\n",
       "    </tr>\n",
       "    <tr>\n",
       "      <th>50</th>\n",
       "      <td>0.925000</td>\n",
       "    </tr>\n",
       "    <tr>\n",
       "      <th>150</th>\n",
       "      <td>0.925000</td>\n",
       "    </tr>\n",
       "    <tr>\n",
       "      <th>200</th>\n",
       "      <td>0.925000</td>\n",
       "    </tr>\n",
       "  </tbody>\n",
       "</table>\n",
       "</div>"
      ],
      "text/plain": [
       "                Mean Accuracy scores\n",
       "no. estimators                      \n",
       "5                           0.933333\n",
       "10                          0.933333\n",
       "50                          0.925000\n",
       "150                         0.925000\n",
       "200                         0.925000"
      ]
     },
     "execution_count": 13,
     "metadata": {},
     "output_type": "execute_result"
    }
   ],
   "source": [
    "#Performimg 10-fold cross validation\n",
    "result_list = []\n",
    "n_val = [5, 10, 50, 150, 200]\n",
    "for i in n_val:\n",
    "        Gbc= GradientBoostingClassifier(n_estimators=i,random_state=42,loss='deviance')\n",
    "        Gbc.fit(A_train,B_train)\n",
    "        val=cross_val_score(Gbc,A_train,B_train,cv=10)\n",
    "        val.mean()\n",
    "        result_list.append(val.mean())\n",
    "df= pa.DataFrame(result_list,n_val,columns = ['Mean Accuracy scores'])\n",
    "df = df.rename_axis('no. estimators')\n",
    "df"
   ]
  },
  {
   "cell_type": "code",
   "execution_count": 14,
   "metadata": {},
   "outputs": [
    {
     "data": {
      "text/plain": [
       "Text(0, 0.5, 'Accuracy')"
      ]
     },
     "execution_count": 14,
     "metadata": {},
     "output_type": "execute_result"
    },
    {
     "data": {
      "image/png": "[encoded data removed]",
      "text/plain": [
       "<Figure size 432x288 with 1 Axes>"
      ]
     },
     "metadata": {
      "needs_background": "light"
     },
     "output_type": "display_data"
    }
   ],
   "source": [
    "#Plotting graph for above tabular data\n",
    "df.plot(color='red')\n",
    "pt.grid()\n",
    "pt.title('Accuracy vs number of estimators')\n",
    "pt.xlabel('Number of estimators')\n",
    "pt.ylabel('Accuracy')"
   ]
  },
  {
   "cell_type": "markdown",
   "metadata": {},
   "source": [
    "The contribution of the tree are slow down using a technique called shrinkage thus for less values of number of trees the accuracy scores on the train data is more.For values n= 5 and 10 maximum accuracy are obtained.(0.933333)"
   ]
  }
 ],
 "metadata": {
  "kernelspec": {
   "display_name": "Python 3",
   "language": "python",
   "name": "python3"
  },
  "language_info": {
   "codemirror_mode": {
    "name": "ipython",
    "version": 3
   },
   "file_extension": ".py",
   "mimetype": "text/x-python",
   "name": "python",
   "nbconvert_exporter": "python",
   "pygments_lexer": "ipython3",
   "version": "3.7.7"
  }
 },
 "nbformat": 4,
 "nbformat_minor": 4
}
